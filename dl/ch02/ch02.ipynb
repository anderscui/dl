{
 "cells": [
  {
   "cell_type": "code",
   "execution_count": 1,
   "metadata": {},
   "outputs": [],
   "source": [
    "text = 'You say goodbye and I say hello.'"
   ]
  },
  {
   "cell_type": "code",
   "execution_count": 2,
   "metadata": {},
   "outputs": [],
   "source": [
    "RE_SEG = re.compile('(\\w+)', re.U)\n",
    "\n",
    "\n",
    "def preprocess(sent):\n",
    "    return sent.lower()\n",
    "\n",
    "\n",
    "# def word_seg(sent):\n",
    "#     return [w for w in RE_SEG.split(sent) if w.strip()]\n",
    "\n",
    "\n",
    "def word_seg(sent):\n",
    "    sent = sent.replace('.', ' .')\n",
    "    return sent.split(' ')\n",
    "\n",
    "\n",
    "def transform_words(words):\n",
    "    word_to_id = {}\n",
    "    id_to_word = {}\n",
    "\n",
    "    for word in words:\n",
    "        if word in word_to_id:\n",
    "            continue\n",
    "\n",
    "        new_id = len(word_to_id)\n",
    "        word_to_id[word] = new_id\n",
    "        id_to_word[new_id] = word\n",
    "    \n",
    "    # 使用 id，将原始文本转换为 array\n",
    "    corpus = [word_to_id[w] for w in words]\n",
    "    corpus = np.array(corpus)\n",
    "    return corpus, word_to_id, id_to_word\n",
    "\n",
    "\n",
    "def transform(raw_text):\n",
    "    sent = preprocess(raw_text)\n",
    "    words = word_seg(sent)\n",
    "    return transform_words(words)"
   ]
  },
  {
   "cell_type": "code",
   "execution_count": 3,
   "metadata": {
    "scrolled": true
   },
   "outputs": [
    {
     "name": "stdout",
     "output_type": "stream",
     "text": [
      "[0 1 2 3 4 1 5 6]\n"
     ]
    },
    {
     "data": {
      "text/plain": [
       "({'you': 0, 'say': 1, 'goodbye': 2, 'and': 3, 'i': 4, 'hello': 5, '.': 6},\n",
       " {0: 'you', 1: 'say', 2: 'goodbye', 3: 'and', 4: 'i', 5: 'hello', 6: '.'})"
      ]
     },
     "execution_count": 3,
     "metadata": {},
     "output_type": "execute_result"
    }
   ],
   "source": [
    "corpus, word_to_id, id_to_word = transform(text)\n",
    "print(corpus)\n",
    "\n",
    "word_to_id, id_to_word"
   ]
  },
  {
   "cell_type": "code",
   "execution_count": 4,
   "metadata": {},
   "outputs": [],
   "source": [
    "def create_co_matrix(corpus, vocab_size, window_size=1):\n",
    "    corpus_size = len(corpus)\n",
    "    co_matrix = np.zeros((vocab_size, vocab_size), dtype=np.int32)\n",
    "    \n",
    "    for word_i, word_id in enumerate(corpus):\n",
    "        for i in range(1, window_size+1):\n",
    "            left_i = word_i - i\n",
    "            right_i = word_i + i\n",
    "            if left_i >= 0:\n",
    "                left_word_id = corpus[left_i]\n",
    "                co_matrix[word_id, left_word_id] += 1\n",
    "            if right_i < corpus_size:\n",
    "                right_word_id = corpus[right_i]\n",
    "                co_matrix[word_id, right_word_id] += 1\n",
    "    \n",
    "    return co_matrix"
   ]
  },
  {
   "cell_type": "code",
   "execution_count": 5,
   "metadata": {},
   "outputs": [
    {
     "data": {
      "text/plain": [
       "array([[0, 1, 0, 0, 0, 0, 0],\n",
       "       [1, 0, 1, 0, 1, 1, 0],\n",
       "       [0, 1, 0, 1, 0, 0, 0],\n",
       "       [0, 0, 1, 0, 1, 0, 0],\n",
       "       [0, 1, 0, 1, 0, 0, 0],\n",
       "       [0, 1, 0, 0, 0, 0, 1],\n",
       "       [0, 0, 0, 0, 0, 1, 0]], dtype=int32)"
      ]
     },
     "execution_count": 5,
     "metadata": {},
     "output_type": "execute_result"
    }
   ],
   "source": [
    "co_matrix = create_co_matrix(corpus, len(id_to_word))\n",
    "co_matrix"
   ]
  },
  {
   "cell_type": "code",
   "execution_count": 8,
   "metadata": {},
   "outputs": [],
   "source": [
    "def cos_similarity(x, y, eps=1e-8):\n",
    "    # 添加一个极小值，防止出现除以零错误\n",
    "    nx = x / np.sqrt(np.sum(x**2) + eps)\n",
    "    ny = y / np.sqrt(np.sum(y**2) + eps)\n",
    "    return np.dot(nx, ny)"
   ]
  },
  {
   "cell_type": "code",
   "execution_count": 9,
   "metadata": {},
   "outputs": [
    {
     "data": {
      "text/plain": [
       "0.7071067758832467"
      ]
     },
     "execution_count": 9,
     "metadata": {},
     "output_type": "execute_result"
    }
   ],
   "source": [
    "c1 = co_matrix[word_to_id['you']]\n",
    "c2 = co_matrix[word_to_id['i']]\n",
    "cos_similarity(c1, c2)"
   ]
  },
  {
   "cell_type": "code",
   "execution_count": 17,
   "metadata": {},
   "outputs": [],
   "source": [
    "def most_similar(query, word_to_id, id_to_word, word_matrix, top=5):\n",
    "    if query not in word_to_id:\n",
    "        # new word, no sims\n",
    "        print(f'{query} is unknown')\n",
    "        return []\n",
    "    \n",
    "    word_id = word_to_id[query]\n",
    "    word_vec = word_matrix[word_id]\n",
    "    \n",
    "    vocab_size = len(id_to_word)\n",
    "    sims = np.zeros(vocab_size)\n",
    "    for i in range(vocab_size):\n",
    "        sims[i] = cos_similarity(word_vec, word_matrix[i])\n",
    "    \n",
    "    result = []\n",
    "    for i in (-sims).argsort():\n",
    "        if id_to_word[i] == query:\n",
    "            continue\n",
    "        result.append((id_to_word[i], sims[i]))\n",
    "        \n",
    "        if len(result) >= top:\n",
    "            break\n",
    "    return result"
   ]
  },
  {
   "cell_type": "code",
   "execution_count": 18,
   "metadata": {},
   "outputs": [
    {
     "name": "stdout",
     "output_type": "stream",
     "text": [
      "('goodbye', 0.7071067758832467)\n",
      "('i', 0.7071067758832467)\n",
      "('hello', 0.7071067758832467)\n",
      "('say', 0.0)\n",
      "('and', 0.0)\n"
     ]
    }
   ],
   "source": [
    "for word in most_similar('you', word_to_id, id_to_word, co_matrix):\n",
    "    print(word)"
   ]
  },
  {
   "cell_type": "code",
   "execution_count": 29,
   "metadata": {},
   "outputs": [],
   "source": [
    "def ppmi(C, verbose=False, eps=1e-8):\n",
    "    M = np.zeros_like(C, dtype=np.float32)\n",
    "    # 每个词重复计算一次\n",
    "    N = np.sum(C)\n",
    "    S = np.sum(C, axis=0)\n",
    "    \n",
    "    total = C.shape[0] * C.shape[1]\n",
    "    cnt = 0\n",
    "    \n",
    "    for i in range(C.shape[0]):\n",
    "        for j in range(C.shape[1]):\n",
    "            pmi = np.log2(C[i, j] * N / (S[i] * S[j]) + eps)\n",
    "            M[i, j] = max(0, pmi)\n",
    "            \n",
    "            if verbose:\n",
    "                cnt += 1\n",
    "                if cnt % (total//100 + 1) == 0:\n",
    "                    print(f'{100*cnt/total}% done')\n",
    "                    \n",
    "    return M"
   ]
  },
  {
   "cell_type": "code",
   "execution_count": 31,
   "metadata": {},
   "outputs": [],
   "source": [
    "W = ppmi(co_matrix)"
   ]
  },
  {
   "cell_type": "code",
   "execution_count": 32,
   "metadata": {},
   "outputs": [
    {
     "name": "stdout",
     "output_type": "stream",
     "text": [
      "PPMI\n"
     ]
    },
    {
     "data": {
      "text/plain": [
       "array([[0.   , 1.807, 0.   , 0.   , 0.   , 0.   , 0.   ],\n",
       "       [1.807, 0.   , 0.807, 0.   , 0.807, 0.807, 0.   ],\n",
       "       [0.   , 0.807, 0.   , 1.807, 0.   , 0.   , 0.   ],\n",
       "       [0.   , 0.   , 1.807, 0.   , 1.807, 0.   , 0.   ],\n",
       "       [0.   , 0.807, 0.   , 1.807, 0.   , 0.   , 0.   ],\n",
       "       [0.   , 0.807, 0.   , 0.   , 0.   , 0.   , 2.807],\n",
       "       [0.   , 0.   , 0.   , 0.   , 0.   , 2.807, 0.   ]], dtype=float32)"
      ]
     },
     "execution_count": 32,
     "metadata": {},
     "output_type": "execute_result"
    }
   ],
   "source": [
    "np.set_printoptions(precision=3)\n",
    "print('PPMI')\n",
    "W"
   ]
  },
  {
   "cell_type": "code",
   "execution_count": 33,
   "metadata": {},
   "outputs": [],
   "source": [
    "U, S, V = np.linalg.svd(W)"
   ]
  },
  {
   "cell_type": "code",
   "execution_count": 35,
   "metadata": {},
   "outputs": [
    {
     "data": {
      "text/plain": [
       "(array([0, 1, 0, 0, 0, 0, 0], dtype=int32),\n",
       " array([0.   , 1.807, 0.   , 0.   , 0.   , 0.   , 0.   ], dtype=float32),\n",
       " array([ 3.409e-01,  0.000e+00, -1.205e-01, -3.886e-16, -9.323e-01,\n",
       "        -1.110e-16, -2.426e-17], dtype=float32))"
      ]
     },
     "execution_count": 35,
     "metadata": {},
     "output_type": "execute_result"
    }
   ],
   "source": [
    "co_matrix[0], W[0], U[0]"
   ]
  },
  {
   "cell_type": "code",
   "execution_count": 36,
   "metadata": {},
   "outputs": [
    {
     "data": {
      "image/png": "[encoded data removed]",
      "text/plain": [
       "<Figure size 432x288 with 1 Axes>"
      ]
     },
     "metadata": {
      "needs_background": "light"
     },
     "output_type": "display_data"
    }
   ],
   "source": [
    "import matplotlib.pyplot as plt\n",
    "\n",
    "for word, word_id in word_to_id.items():\n",
    "    plt.annotate(word, (U[word_id, 0], U[word_id, 1]))\n",
    "    \n",
    "plt.scatter(U[:,0], U[:,1], alpha=0.5)\n",
    "plt.show()"
   ]
  },
  {
   "cell_type": "markdown",
   "metadata": {},
   "source": [
    "# PTB Corpus"
   ]
  },
  {
   "cell_type": "code",
   "execution_count": 41,
   "metadata": {},
   "outputs": [],
   "source": [
    "import sys\n",
    "sys.path.insert(0, '..')\n",
    "from dataset import ptb"
   ]
  },
  {
   "cell_type": "code",
   "execution_count": 43,
   "metadata": {},
   "outputs": [],
   "source": [
    "corpus, word_to_id, id_to_word = ptb.load_data('train')"
   ]
  },
  {
   "cell_type": "code",
   "execution_count": 46,
   "metadata": {},
   "outputs": [
    {
     "name": "stdout",
     "output_type": "stream",
     "text": [
      "corpus size: 929589\n",
      "corpus[:30]: [ 0  1  2  3  4  5  6  7  8  9 10 11 12 13 14 15 16 17 18 19 20 21 22 23\n",
      " 24 25 26 27 28 29]\n",
      "\n",
      "id_to_word[0]: aer\n",
      "id_to_word[1]: banknote\n",
      "id_to_word[2]: berlitz\n",
      "\n",
      "word_to_id[car]: 3856\n",
      "word_to_id[happy]: 4428\n",
      "word_to_id[lexus]: 7426\n"
     ]
    }
   ],
   "source": [
    "print('corpus size:', len(corpus))\n",
    "print('corpus[:30]:', corpus[:30])\n",
    "print()\n",
    "\n",
    "print('id_to_word[0]:', id_to_word[0])\n",
    "print('id_to_word[1]:', id_to_word[1])\n",
    "print('id_to_word[2]:', id_to_word[2])\n",
    "print()\n",
    "\n",
    "print('word_to_id[car]:', word_to_id['car'])\n",
    "print('word_to_id[happy]:', word_to_id['happy'])\n",
    "print('word_to_id[lexus]:', word_to_id['lexus'])"
   ]
  },
  {
   "cell_type": "code",
   "execution_count": 47,
   "metadata": {},
   "outputs": [
    {
     "name": "stdout",
     "output_type": "stream",
     "text": [
      "counting co-matrix\n"
     ]
    },
    {
     "data": {
      "text/plain": [
       "10000"
      ]
     },
     "execution_count": 47,
     "metadata": {},
     "output_type": "execute_result"
    }
   ],
   "source": [
    "# 计算 svd\n",
    "window_size = 2\n",
    "wordvec_size = 100\n",
    "\n",
    "vocab_size = len(word_to_id)\n",
    "print('counting co-matrix')\n",
    "C = create_co_matrix(corpus, vocab_size, window_size=window_size)\n",
    "len(C)"
   ]
  },
  {
   "cell_type": "code",
   "execution_count": 48,
   "metadata": {},
   "outputs": [
    {
     "name": "stdout",
     "output_type": "stream",
     "text": [
      "calculating PPMI...\n",
      "1.000001% done\n",
      "2.000002% done\n",
      "3.000003% done\n",
      "4.000004% done\n",
      "5.000005% done\n",
      "6.000006% done\n",
      "7.000007% done\n",
      "8.000008% done\n",
      "9.000009% done\n",
      "10.00001% done\n",
      "11.000011% done\n",
      "12.000012% done\n",
      "13.000013% done\n",
      "14.000014% done\n",
      "15.000015% done\n",
      "16.000016% done\n",
      "17.000017% done\n",
      "18.000018% done\n",
      "19.000019% done\n",
      "20.00002% done\n",
      "21.000021% done\n",
      "22.000022% done\n",
      "23.000023% done\n",
      "24.000024% done\n",
      "25.000025% done\n",
      "26.000026% done\n",
      "27.000027% done\n",
      "28.000028% done\n",
      "29.000029% done\n",
      "30.00003% done\n",
      "31.000031% done\n",
      "32.000032% done\n",
      "33.000033% done\n",
      "34.000034% done\n",
      "35.000035% done\n",
      "36.000036% done\n",
      "37.000037% done\n",
      "38.000038% done\n",
      "39.000039% done\n",
      "40.00004% done\n",
      "41.000041% done\n",
      "42.000042% done\n",
      "43.000043% done\n",
      "44.000044% done\n",
      "45.000045% done\n",
      "46.000046% done\n",
      "47.000047% done\n",
      "48.000048% done\n",
      "49.000049% done\n",
      "50.00005% done\n",
      "51.000051% done\n",
      "52.000052% done\n",
      "53.000053% done\n",
      "54.000054% done\n",
      "55.000055% done\n",
      "56.000056% done\n",
      "57.000057% done\n",
      "58.000058% done\n",
      "59.000059% done\n",
      "60.00006% done\n",
      "61.000061% done\n",
      "62.000062% done\n",
      "63.000063% done\n",
      "64.000064% done\n",
      "65.000065% done\n",
      "66.000066% done\n",
      "67.000067% done\n",
      "68.000068% done\n",
      "69.000069% done\n",
      "70.00007% done\n",
      "71.000071% done\n",
      "72.000072% done\n",
      "73.000073% done\n",
      "74.000074% done\n",
      "75.000075% done\n",
      "76.000076% done\n",
      "77.000077% done\n",
      "78.000078% done\n",
      "79.000079% done\n",
      "80.00008% done\n",
      "81.000081% done\n",
      "82.000082% done\n",
      "83.000083% done\n",
      "84.000084% done\n",
      "85.000085% done\n",
      "86.000086% done\n",
      "87.000087% done\n",
      "88.000088% done\n",
      "89.000089% done\n",
      "90.00009% done\n",
      "91.000091% done\n",
      "92.000092% done\n",
      "93.000093% done\n",
      "94.000094% done\n",
      "95.000095% done\n",
      "96.000096% done\n",
      "97.000097% done\n",
      "98.000098% done\n",
      "99.000099% done\n",
      "10000\n"
     ]
    }
   ],
   "source": [
    "print('calculating PPMI...')\n",
    "W = ppmi(C, verbose=True)\n",
    "print(len(W))"
   ]
  },
  {
   "cell_type": "code",
   "execution_count": 49,
   "metadata": {},
   "outputs": [
    {
     "name": "stdout",
     "output_type": "stream",
     "text": [
      "calculating SVD ...\n"
     ]
    },
    {
     "data": {
      "text/plain": [
       "(10000, 100)"
      ]
     },
     "execution_count": 49,
     "metadata": {},
     "output_type": "execute_result"
    }
   ],
   "source": [
    "print('calculating SVD ...')\n",
    "try:\n",
    "    from sklearn.utils.extmath import randomized_svd\n",
    "    U, S, V = randomized_svd(W, n_components=wordvec_size, n_iter=5, random_state=None)\n",
    "except ImportError:\n",
    "    print('use normal linalg ...')\n",
    "    U, S, V = np.linalg.svd(W)\n",
    "    \n",
    "word_vecs = U[:, :wordvec_size]\n",
    "word_vecs.shape"
   ]
  },
  {
   "cell_type": "code",
   "execution_count": 52,
   "metadata": {},
   "outputs": [
    {
     "name": "stdout",
     "output_type": "stream",
     "text": [
      "similar to you\n",
      "('i', 0.6898401379585266)\n",
      "('we', 0.6181826591491699)\n",
      "('do', 0.5525362491607666)\n",
      "('anybody', 0.5482551455497742)\n",
      "(\"'ll\", 0.5085446834564209)\n",
      "similar to year\n",
      "('month', 0.7086570858955383)\n",
      "('quarter', 0.6261984705924988)\n",
      "('earlier', 0.5967453122138977)\n",
      "('fiscal', 0.596717357635498)\n",
      "('last', 0.5863330960273743)\n",
      "similar to car\n",
      "('auto', 0.6358515024185181)\n",
      "('vehicle', 0.5932095646858215)\n",
      "('truck', 0.5302572846412659)\n",
      "('cars', 0.513241171836853)\n",
      "('luxury', 0.501797080039978)\n",
      "similar to toyota\n",
      "('motor', 0.7365849614143372)\n",
      "('motors', 0.7265141010284424)\n",
      "('lexus', 0.6589174270629883)\n",
      "('nissan', 0.6569986939430237)\n",
      "('honda', 0.5916574001312256)\n"
     ]
    }
   ],
   "source": [
    "queries = ['you', 'year', 'car', 'toyota']\n",
    "for query in queries:\n",
    "    print('similar to', query)\n",
    "    for word in most_similar(query, word_to_id, id_to_word, word_vecs, top=5):\n",
    "        print(word)"
   ]
  },
  {
   "cell_type": "code",
   "execution_count": null,
   "metadata": {},
   "outputs": [],
   "source": []
  }
 ],
 "metadata": {
  "kernelspec": {
   "display_name": "Python 3",
   "language": "python",
   "name": "python3"
  },
  "language_info": {
   "codemirror_mode": {
    "name": "ipython",
    "version": 3
   },
   "file_extension": ".py",
   "mimetype": "text/x-python",
   "name": "python",
   "nbconvert_exporter": "python",
   "pygments_lexer": "ipython3",
   "version": "3.7.9"
  }
 },
 "nbformat": 4,
 "nbformat_minor": 4
}
